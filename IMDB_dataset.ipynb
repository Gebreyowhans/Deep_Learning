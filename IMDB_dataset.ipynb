{
  "nbformat": 4,
  "nbformat_minor": 0,
  "metadata": {
    "colab": {
      "provenance": []
    },
    "kernelspec": {
      "name": "python3",
      "display_name": "Python 3"
    },
    "language_info": {
      "name": "python"
    },
    "accelerator": "GPU",
    "gpuClass": "standard"
  },
  "cells": [
    {
      "cell_type": "markdown",
      "source": [
        "**Neural network example to perform sentiment analysis**"
      ],
      "metadata": {
        "id": "-N4SrUr7ciI7"
      }
    },
    {
      "cell_type": "code",
      "execution_count": null,
      "metadata": {
        "id": "A01NxBgQ55J8"
      },
      "outputs": [],
      "source": [
        "import tensorflow as tf"
      ]
    },
    {
      "cell_type": "code",
      "source": [
        "from tensorflow.keras.datasets import imdb\n",
        "(train_data,train_labels),(test_data,test_labels)=imdb.load_data(num_words=10000)"
      ],
      "metadata": {
        "id": "qKg_BIfh6quj"
      },
      "execution_count": null,
      "outputs": []
    },
    {
      "cell_type": "code",
      "source": [
        "print(len(train_data[0]))"
      ],
      "metadata": {
        "colab": {
          "base_uri": "https://localhost:8080/"
        },
        "id": "Jfed1P3d7h-P",
        "outputId": "255c7dd4-4d62-4240-a1d0-f8fc06810c77"
      },
      "execution_count": null,
      "outputs": [
        {
          "output_type": "stream",
          "name": "stdout",
          "text": [
            "218\n"
          ]
        }
      ]
    },
    {
      "cell_type": "code",
      "source": [
        "max([max(sequence) for sequence in train_data])"
      ],
      "metadata": {
        "colab": {
          "base_uri": "https://localhost:8080/"
        },
        "id": "zpKU5jB58p3M",
        "outputId": "6b35fc01-52b1-4637-9455-9d66522161e2"
      },
      "execution_count": null,
      "outputs": [
        {
          "output_type": "execute_result",
          "data": {
            "text/plain": [
              "9999"
            ]
          },
          "metadata": {},
          "execution_count": 9
        }
      ]
    },
    {
      "cell_type": "code",
      "source": [],
      "metadata": {
        "id": "_5Yk3yD_9ECv"
      },
      "execution_count": null,
      "outputs": []
    },
    {
      "cell_type": "markdown",
      "source": [
        "**Preparing the data**\n",
        "*Encoding the integer sequences via multi-hot\n",
        "encoding*"
      ],
      "metadata": {
        "id": "oM82YFK79euy"
      }
    },
    {
      "cell_type": "code",
      "source": [
        "import numpy as np"
      ],
      "metadata": {
        "id": "eCtm9dVD9ieE"
      },
      "execution_count": null,
      "outputs": []
    },
    {
      "cell_type": "code",
      "source": [
        "def vectorize_sequences(sequences,dimension=10000):\n",
        "  results=np.zeros((len(sequences),dimension))\n",
        "  for i,sequence in enumerate(sequences):\n",
        "    for j in sequence:\n",
        "      results[i,j]=1.\n",
        "  return results\n",
        "\n"
      ],
      "metadata": {
        "id": "nDpCEBtX_KWB"
      },
      "execution_count": null,
      "outputs": []
    },
    {
      "cell_type": "code",
      "source": [
        "x_train=vectorize_sequences(train_data)"
      ],
      "metadata": {
        "id": "Hp1sL-w2AYc9"
      },
      "execution_count": null,
      "outputs": []
    },
    {
      "cell_type": "code",
      "source": [
        "print(len(x_train[0]))"
      ],
      "metadata": {
        "colab": {
          "base_uri": "https://localhost:8080/"
        },
        "id": "FT7QFRqlBd1X",
        "outputId": "7301ef42-320f-4e4d-a2ed-1df2d58568b1"
      },
      "execution_count": null,
      "outputs": [
        {
          "output_type": "stream",
          "name": "stdout",
          "text": [
            "10000\n"
          ]
        }
      ]
    },
    {
      "cell_type": "code",
      "source": [
        "print(len(x_train))"
      ],
      "metadata": {
        "colab": {
          "base_uri": "https://localhost:8080/"
        },
        "id": "tsZzeHhVCE3C",
        "outputId": "15684f5e-e9d2-465d-b345-abaa0cc83b23"
      },
      "execution_count": null,
      "outputs": [
        {
          "output_type": "stream",
          "name": "stdout",
          "text": [
            "25000\n"
          ]
        }
      ]
    },
    {
      "cell_type": "code",
      "source": [
        "x_test=vectorize_sequences(test_data)"
      ],
      "metadata": {
        "id": "OTTFT0bjAn2a"
      },
      "execution_count": null,
      "outputs": []
    },
    {
      "cell_type": "markdown",
      "source": [
        "vectorize labels"
      ],
      "metadata": {
        "id": "tdj9bbX9DF4Q"
      }
    },
    {
      "cell_type": "code",
      "source": [
        "y_train=np.asanyarray(train_labels).astype('float32')\n",
        "y_test=np.asanyarray(test_labels).astype('float32')"
      ],
      "metadata": {
        "id": "NO2zi_dEDKrx"
      },
      "execution_count": null,
      "outputs": []
    },
    {
      "cell_type": "markdown",
      "source": [
        "**Building the model** "
      ],
      "metadata": {
        "id": "1bpFwjslDxqS"
      }
    },
    {
      "cell_type": "code",
      "source": [
        "from tensorflow import keras\n",
        "from tensorflow.keras import layers\n"
      ],
      "metadata": {
        "id": "NYv2kPFSDvSs"
      },
      "execution_count": null,
      "outputs": []
    },
    {
      "cell_type": "code",
      "source": [
        "model=keras.Sequential([\n",
        "    layers.Dense(16,activation=\"relu\"),\n",
        "    layers.Dense(16,activation=\"relu\"),\n",
        "    layers.Dense(1,activation=\"sigmoid\")\n",
        "])"
      ],
      "metadata": {
        "id": "MY_Mzz2EG1vc"
      },
      "execution_count": null,
      "outputs": []
    },
    {
      "cell_type": "code",
      "source": [
        "model.compile(optimizer=\"rmsprop\",\n",
        "              loss=\"mse\",\n",
        "              metrics=[\"accuracy\"]\n",
        ")"
      ],
      "metadata": {
        "id": "NjE4zHk2Hkz2"
      },
      "execution_count": null,
      "outputs": []
    },
    {
      "cell_type": "markdown",
      "source": [
        "**Setting aside a validation set**"
      ],
      "metadata": {
        "id": "wVVBlzdfMH1Q"
      }
    },
    {
      "cell_type": "code",
      "source": [
        "x_val=x_train[:10000]\n",
        "partial_x_train=x_train[10000:]\n",
        "y_val=y_train[:10000]\n",
        "partial_y_train=y_train[10000:]\n"
      ],
      "metadata": {
        "id": "hM_46F8uLwru"
      },
      "execution_count": null,
      "outputs": []
    },
    {
      "cell_type": "markdown",
      "source": [
        "**Training your model**"
      ],
      "metadata": {
        "id": "l6vsfuSSMyyu"
      }
    },
    {
      "cell_type": "code",
      "source": [
        "history = model.fit(partial_x_train,\n",
        "                    partial_y_train,\n",
        "                    epochs=20,\n",
        "                    batch_size=128,\n",
        "                    validation_data=(x_val, y_val))"
      ],
      "metadata": {
        "colab": {
          "base_uri": "https://localhost:8080/"
        },
        "id": "jXmUSm32M0zB",
        "outputId": "48104087-043d-4e1b-f7eb-854333283b13"
      },
      "execution_count": null,
      "outputs": [
        {
          "output_type": "stream",
          "name": "stdout",
          "text": [
            "Epoch 1/20\n",
            "118/118 [==============================] - 3s 15ms/step - loss: 0.1342 - accuracy: 0.8347 - val_loss: 0.0988 - val_accuracy: 0.8724\n",
            "Epoch 2/20\n",
            "118/118 [==============================] - 1s 7ms/step - loss: 0.0677 - accuracy: 0.9171 - val_loss: 0.1002 - val_accuracy: 0.8632\n",
            "Epoch 3/20\n",
            "118/118 [==============================] - 1s 8ms/step - loss: 0.0497 - accuracy: 0.9405 - val_loss: 0.0855 - val_accuracy: 0.8843\n",
            "Epoch 4/20\n",
            "118/118 [==============================] - 1s 7ms/step - loss: 0.0379 - accuracy: 0.9561 - val_loss: 0.1085 - val_accuracy: 0.8563\n",
            "Epoch 5/20\n",
            "118/118 [==============================] - 1s 10ms/step - loss: 0.0305 - accuracy: 0.9653 - val_loss: 0.0980 - val_accuracy: 0.8738\n",
            "Epoch 6/20\n",
            "118/118 [==============================] - 1s 12ms/step - loss: 0.0243 - accuracy: 0.9740 - val_loss: 0.0953 - val_accuracy: 0.8763\n",
            "Epoch 7/20\n",
            "118/118 [==============================] - 1s 8ms/step - loss: 0.0193 - accuracy: 0.9801 - val_loss: 0.0968 - val_accuracy: 0.8787\n",
            "Epoch 8/20\n",
            "118/118 [==============================] - 1s 7ms/step - loss: 0.0163 - accuracy: 0.9836 - val_loss: 0.1043 - val_accuracy: 0.8691\n",
            "Epoch 9/20\n",
            "118/118 [==============================] - 1s 8ms/step - loss: 0.0137 - accuracy: 0.9868 - val_loss: 0.1049 - val_accuracy: 0.8727\n",
            "Epoch 10/20\n",
            "118/118 [==============================] - 1s 8ms/step - loss: 0.0109 - accuracy: 0.9902 - val_loss: 0.1054 - val_accuracy: 0.8743\n",
            "Epoch 11/20\n",
            "118/118 [==============================] - 1s 7ms/step - loss: 0.0096 - accuracy: 0.9913 - val_loss: 0.1074 - val_accuracy: 0.8728\n",
            "Epoch 12/20\n",
            "118/118 [==============================] - 1s 8ms/step - loss: 0.0088 - accuracy: 0.9917 - val_loss: 0.1095 - val_accuracy: 0.8703\n",
            "Epoch 13/20\n",
            "118/118 [==============================] - 1s 7ms/step - loss: 0.0081 - accuracy: 0.9924 - val_loss: 0.1133 - val_accuracy: 0.8683\n",
            "Epoch 14/20\n",
            "118/118 [==============================] - 1s 8ms/step - loss: 0.0076 - accuracy: 0.9926 - val_loss: 0.1106 - val_accuracy: 0.8720\n",
            "Epoch 15/20\n",
            "118/118 [==============================] - 1s 7ms/step - loss: 0.0069 - accuracy: 0.9932 - val_loss: 0.1123 - val_accuracy: 0.8696\n",
            "Epoch 16/20\n",
            "118/118 [==============================] - 1s 7ms/step - loss: 0.0069 - accuracy: 0.9931 - val_loss: 0.1142 - val_accuracy: 0.8704\n",
            "Epoch 17/20\n",
            "118/118 [==============================] - 1s 8ms/step - loss: 0.0063 - accuracy: 0.9939 - val_loss: 0.1123 - val_accuracy: 0.8711\n",
            "Epoch 18/20\n",
            "118/118 [==============================] - 1s 10ms/step - loss: 0.0061 - accuracy: 0.9940 - val_loss: 0.1138 - val_accuracy: 0.8702\n",
            "Epoch 19/20\n",
            "118/118 [==============================] - 1s 13ms/step - loss: 0.0059 - accuracy: 0.9941 - val_loss: 0.1130 - val_accuracy: 0.8714\n",
            "Epoch 20/20\n",
            "118/118 [==============================] - 1s 8ms/step - loss: 0.0059 - accuracy: 0.9941 - val_loss: 0.1138 - val_accuracy: 0.8714\n"
          ]
        }
      ]
    },
    {
      "cell_type": "markdown",
      "source": [
        "**Plotting the training and validation loss**"
      ],
      "metadata": {
        "id": "d62lBgPdOcwq"
      }
    },
    {
      "cell_type": "code",
      "source": [
        "import matplotlib.pyplot as plt\n",
        "history_dict = history.history\n",
        "loss_values = history_dict[\"loss\"]\n",
        "val_loss_values = history_dict[\"val_loss\"]\n",
        "epochs = range(1, len(loss_values) + 1)\n",
        "plt.plot(epochs, loss_values, \"bo\", label=\"Training loss\")\n",
        "plt.plot(epochs, val_loss_values, \"b\", label=\"Validation loss\")\n",
        "plt.title(\"Training and validation loss\")\n",
        "plt.xlabel(\"Epochs\")\n",
        "plt.ylabel(\"Loss\")\n",
        "plt.legend()\n",
        "plt.show()"
      ],
      "metadata": {
        "colab": {
          "base_uri": "https://localhost:8080/",
          "height": 295
        },
        "id": "sNtp_eUuOfCc",
        "outputId": "9af5f73d-830d-4199-f40f-8e87e7de9fdd"
      },
      "execution_count": null,
      "outputs": [
        {
          "output_type": "display_data",
          "data": {
            "text/plain": [
              "<Figure size 432x288 with 1 Axes>"
            ],
            "image/png": "[encoded data removed]"
          },
          "metadata": {
            "needs_background": "light"
          }
        }
      ]
    },
    {
      "cell_type": "markdown",
      "source": [
        "**Plotting the training and validation accuracy**"
      ],
      "metadata": {
        "id": "detvRd3mP6aH"
      }
    },
    {
      "cell_type": "code",
      "source": [
        "plt.clf()\n",
        "acc = history_dict[\"accuracy\"]\n",
        "val_acc = history_dict[\"val_accuracy\"]\n",
        "plt.plot(epochs, acc, \"bo\", label=\"Training acc\")\n",
        "plt.plot(epochs, val_acc, \"b\", label=\"Validation acc\")\n",
        "plt.title(\"Training and validation accuracy\")\n",
        "plt.xlabel(\"Epochs\")\n",
        "plt.ylabel(\"Accuracy\")\n",
        "plt.legend()\n",
        "plt.show()"
      ],
      "metadata": {
        "colab": {
          "base_uri": "https://localhost:8080/",
          "height": 295
        },
        "id": "WUMS6pRNP96w",
        "outputId": "6c4b926d-ef6a-4452-9145-ad70536a2b72"
      },
      "execution_count": null,
      "outputs": [
        {
          "output_type": "display_data",
          "data": {
            "text/plain": [
              "<Figure size 432x288 with 1 Axes>"
            ],
            "image/png": "[encoded data removed]"
          },
          "metadata": {
            "needs_background": "light"
          }
        }
      ]
    },
    {
      "cell_type": "code",
      "source": [
        "results = model.evaluate(x_test,y_test)"
      ],
      "metadata": {
        "colab": {
          "base_uri": "https://localhost:8080/"
        },
        "id": "sZrDJb6IRgvo",
        "outputId": "62c68ac9-c5b9-4744-a197-f23d8614c3f9"
      },
      "execution_count": null,
      "outputs": [
        {
          "output_type": "stream",
          "name": "stdout",
          "text": [
            "782/782 [==============================] - 2s 3ms/step - loss: 0.1649 - accuracy: 0.8125\n"
          ]
        }
      ]
    },
    {
      "cell_type": "code",
      "source": [
        "model.predict(x_test)"
      ],
      "metadata": {
        "colab": {
          "base_uri": "https://localhost:8080/"
        },
        "id": "9Fun8djYYKBE",
        "outputId": "c25d4daa-2015-41c3-d55f-d35787e185ed"
      },
      "execution_count": null,
      "outputs": [
        {
          "output_type": "stream",
          "name": "stdout",
          "text": [
            "782/782 [==============================] - 2s 2ms/step\n"
          ]
        },
        {
          "output_type": "execute_result",
          "data": {
            "text/plain": [
              "array([[0.00832319],\n",
              "       [1.        ],\n",
              "       [0.960664  ],\n",
              "       ...,\n",
              "       [0.00109284],\n",
              "       [0.00489736],\n",
              "       [0.84248316]], dtype=float32)"
            ]
          },
          "metadata": {},
          "execution_count": 88
        }
      ]
    }
  ]
}