{
  "nbformat": 4,
  "nbformat_minor": 0,
  "metadata": {
    "colab": {
      "provenance": [],
      "authorship_tag": "ABX9TyPfqVl6fYCWOVXkxQeAkSGC",
      "include_colab_link": true
    },
    "kernelspec": {
      "name": "python3",
      "display_name": "Python 3"
    },
    "language_info": {
      "name": "python"
    },
    "accelerator": "GPU",
    "gpuClass": "standard"
  },
  "cells": [
    {
      "cell_type": "markdown",
      "metadata": {
        "id": "view-in-github",
        "colab_type": "text"
      },
      "source": [
        "<a href=\"https://colab.research.google.com/github/Gebreyowhans/Deep_Learning/blob/main/MNISTDataset.ipynb\" target=\"_parent\"><img src=\"https://colab.research.google.com/assets/colab-badge.svg\" alt=\"Open In Colab\"/></a>"
      ]
    },
    {
      "cell_type": "code",
      "execution_count": 3,
      "metadata": {
        "id": "rlHvIiUDc9bt"
      },
      "outputs": [],
      "source": [
        "import tensorflow as tf"
      ]
    },
    {
      "cell_type": "code",
      "source": [
        "from tensorflow.keras.datasets import mnist\n",
        "(train_images,train_labels),(test_images,test_labels)=mnist.load_data()\n"
      ],
      "metadata": {
        "colab": {
          "base_uri": "https://localhost:8080/"
        },
        "id": "faHoPYV3dZNG",
        "outputId": "63a02edd-0683-4d05-a1df-9212aeffebad"
      },
      "execution_count": 2,
      "outputs": [
        {
          "output_type": "stream",
          "name": "stdout",
          "text": [
            "Downloading data from https://storage.googleapis.com/tensorflow/tf-keras-datasets/mnist.npz\n",
            "11490434/11490434 [==============================] - 1s 0us/step\n"
          ]
        }
      ]
    },
    {
      "cell_type": "code",
      "source": [
        "train_images=train_images.reshape((60000,28*28))\n",
        "train_images=train_images.astype(\"float32\")/255"
      ],
      "metadata": {
        "id": "vy-zE_36d0EX"
      },
      "execution_count": 4,
      "outputs": []
    },
    {
      "cell_type": "code",
      "source": [
        "test_images=test_images.reshape((10000,28*28))\n",
        "test_images=test_images.astype(\"float32\")/255"
      ],
      "metadata": {
        "id": "Fb9KEYB9kPWH"
      },
      "execution_count": 14,
      "outputs": []
    },
    {
      "cell_type": "code",
      "source": [
        "from tensorflow import keras\n",
        "from tensorflow.keras import layers"
      ],
      "metadata": {
        "id": "kxymR1CXeM-D"
      },
      "execution_count": 4,
      "outputs": []
    },
    {
      "cell_type": "code",
      "source": [
        "model=keras.Sequential([\n",
        "    layers.Dense(512,activation=\"relu\"),\n",
        "    layers.Dense(10,activation=\"softmax\")\n",
        "])"
      ],
      "metadata": {
        "id": "1_N0GdkTeXDp"
      },
      "execution_count": 6,
      "outputs": []
    },
    {
      "cell_type": "code",
      "source": [
        "#learnign rate =1.\n",
        "model.compile(optimizer=keras.optimizers.RMSprop(1.),\n",
        "              loss=\"sparse_categorical_crossentropy\",\n",
        "              metrics=[\"accuracy\"])"
      ],
      "metadata": {
        "id": "198C9ENpe6MQ"
      },
      "execution_count": 9,
      "outputs": []
    },
    {
      "cell_type": "code",
      "source": [
        "\n",
        "model.fit(train_images,\n",
        "          train_labels,\n",
        "          epochs=10,\n",
        "          batch_size=128,\n",
        "          validation_split=0.2)"
      ],
      "metadata": {
        "colab": {
          "base_uri": "https://localhost:8080/"
        },
        "id": "Lht_nz5mgIKf",
        "outputId": "6ada3454-f844-4721-f2c5-2842e00e71e3"
      },
      "execution_count": 10,
      "outputs": [
        {
          "output_type": "stream",
          "name": "stdout",
          "text": [
            "Epoch 1/10\n",
            "375/375 [==============================] - 6s 5ms/step - loss: 461.8251 - accuracy: 0.2958 - val_loss: 2.3384 - val_accuracy: 0.2410\n",
            "Epoch 2/10\n",
            "375/375 [==============================] - 1s 4ms/step - loss: 2.7764 - accuracy: 0.2093 - val_loss: 2.3037 - val_accuracy: 0.2450\n",
            "Epoch 3/10\n",
            "375/375 [==============================] - 1s 4ms/step - loss: 2.5875 - accuracy: 0.2028 - val_loss: 2.1976 - val_accuracy: 0.2073\n",
            "Epoch 4/10\n",
            "375/375 [==============================] - 1s 4ms/step - loss: 2.5325 - accuracy: 0.2113 - val_loss: 2.7930 - val_accuracy: 0.2283\n",
            "Epoch 5/10\n",
            "375/375 [==============================] - 1s 4ms/step - loss: 2.4772 - accuracy: 0.2192 - val_loss: 2.2244 - val_accuracy: 0.1870\n",
            "Epoch 6/10\n",
            "375/375 [==============================] - 1s 4ms/step - loss: 2.3446 - accuracy: 0.1920 - val_loss: 2.2577 - val_accuracy: 0.1889\n",
            "Epoch 7/10\n",
            "375/375 [==============================] - 1s 4ms/step - loss: 2.3460 - accuracy: 0.2035 - val_loss: 2.1469 - val_accuracy: 0.2128\n",
            "Epoch 8/10\n",
            "375/375 [==============================] - 2s 5ms/step - loss: 2.3816 - accuracy: 0.2078 - val_loss: 2.1582 - val_accuracy: 0.1997\n",
            "Epoch 9/10\n",
            "375/375 [==============================] - 2s 4ms/step - loss: 2.2684 - accuracy: 0.2086 - val_loss: 2.2381 - val_accuracy: 0.2040\n",
            "Epoch 10/10\n",
            "375/375 [==============================] - 1s 3ms/step - loss: 2.3500 - accuracy: 0.2136 - val_loss: 2.3645 - val_accuracy: 0.1814\n"
          ]
        },
        {
          "output_type": "execute_result",
          "data": {
            "text/plain": [
              "<keras.callbacks.History at 0x7f522d15ce50>"
            ]
          },
          "metadata": {},
          "execution_count": 10
        }
      ]
    },
    {
      "cell_type": "code",
      "source": [
        "model=keras.Sequential([\n",
        "    layers.Dense(512,activation=\"relu\"),\n",
        "    layers.Dense(10,activation=\"softmax\")\n",
        "])"
      ],
      "metadata": {
        "id": "8iw6non8hovJ"
      },
      "execution_count": 11,
      "outputs": []
    },
    {
      "cell_type": "code",
      "source": [
        "#learnign rate =1e-2\n",
        "model.compile(optimizer=keras.optimizers.RMSprop(1e-2),\n",
        "              loss=\"sparse_categorical_crossentropy\",\n",
        "              metrics=[\"accuracy\"])"
      ],
      "metadata": {
        "id": "nyI3P-AThaVX"
      },
      "execution_count": 12,
      "outputs": []
    },
    {
      "cell_type": "code",
      "source": [
        "History=model.fit(train_images,\n",
        "          train_labels,\n",
        "          epochs=10,\n",
        "          batch_size=128,\n",
        "          validation_split=0.2)"
      ],
      "metadata": {
        "colab": {
          "base_uri": "https://localhost:8080/"
        },
        "id": "1ZmKFUdhhmtR",
        "outputId": "a05e3185-c80a-44f1-abfb-454072b8ad46"
      },
      "execution_count": 18,
      "outputs": [
        {
          "output_type": "stream",
          "name": "stdout",
          "text": [
            "Epoch 1/10\n",
            "375/375 [==============================] - 1s 4ms/step - loss: 0.0123 - accuracy: 0.9971 - val_loss: 0.3053 - val_accuracy: 0.9764\n",
            "Epoch 2/10\n",
            "375/375 [==============================] - 1s 3ms/step - loss: 0.0163 - accuracy: 0.9971 - val_loss: 0.3013 - val_accuracy: 0.9765\n",
            "Epoch 3/10\n",
            "375/375 [==============================] - 1s 3ms/step - loss: 0.0143 - accuracy: 0.9973 - val_loss: 0.2877 - val_accuracy: 0.9787\n",
            "Epoch 4/10\n",
            "375/375 [==============================] - 2s 5ms/step - loss: 0.0089 - accuracy: 0.9981 - val_loss: 0.3281 - val_accuracy: 0.9760\n",
            "Epoch 5/10\n",
            "375/375 [==============================] - 2s 4ms/step - loss: 0.0114 - accuracy: 0.9977 - val_loss: 0.3269 - val_accuracy: 0.9769\n",
            "Epoch 6/10\n",
            "375/375 [==============================] - 1s 4ms/step - loss: 0.0110 - accuracy: 0.9975 - val_loss: 0.3188 - val_accuracy: 0.9765\n",
            "Epoch 7/10\n",
            "375/375 [==============================] - 1s 4ms/step - loss: 0.0100 - accuracy: 0.9981 - val_loss: 0.3308 - val_accuracy: 0.9775\n",
            "Epoch 8/10\n",
            "375/375 [==============================] - 1s 4ms/step - loss: 0.0112 - accuracy: 0.9978 - val_loss: 0.3203 - val_accuracy: 0.9781\n",
            "Epoch 9/10\n",
            "375/375 [==============================] - 1s 4ms/step - loss: 0.0085 - accuracy: 0.9981 - val_loss: 0.3724 - val_accuracy: 0.9762\n",
            "Epoch 10/10\n",
            "375/375 [==============================] - 1s 4ms/step - loss: 0.0047 - accuracy: 0.9987 - val_loss: 0.3284 - val_accuracy: 0.9772\n"
          ]
        }
      ]
    },
    {
      "cell_type": "code",
      "source": [
        "model.evaluate(test_images,test_labels)"
      ],
      "metadata": {
        "colab": {
          "base_uri": "https://localhost:8080/"
        },
        "id": "dmQlI-NYjibf",
        "outputId": "0ba6034b-1446-47f4-9934-0bed9ab8a036"
      },
      "execution_count": 19,
      "outputs": [
        {
          "output_type": "stream",
          "name": "stdout",
          "text": [
            "313/313 [==============================] - 1s 3ms/step - loss: 0.3395 - accuracy: 0.9761\n"
          ]
        },
        {
          "output_type": "execute_result",
          "data": {
            "text/plain": [
              "[0.3395281136035919, 0.9761000275611877]"
            ]
          },
          "metadata": {},
          "execution_count": 19
        }
      ]
    },
    {
      "cell_type": "code",
      "source": [
        "import matplotlib.pyplot as plt\n",
        "loss= History.history[\"loss\"]\n",
        "val_loss=History.history[\"val_loss\"]\n",
        "\n",
        "epoches=range(1,len(loss)+1)\n",
        "\n",
        "plt.plot(epoches,loss,'bo',label=\"Training loss\")\n",
        "plt.plot(epoches,val_loss,'b',label=\"Validation loss\")\n",
        "plt.xlabel(\"Epoches\")\n",
        "plt.ylabel(\"loss values\")\n",
        "plt.title(\"plot of training and validation loss\")\n",
        "plt.legend()\n",
        "plt.show()"
      ],
      "metadata": {
        "colab": {
          "base_uri": "https://localhost:8080/",
          "height": 295
        },
        "id": "iNlb0gAMlqBM",
        "outputId": "f2f53605-a6c0-4e1c-e8b9-29fa497aebba"
      },
      "execution_count": 20,
      "outputs": [
        {
          "output_type": "display_data",
          "data": {
            "text/plain": [
              "<Figure size 432x288 with 1 Axes>"
            ],
            "image/png": "[encoded data removed]"
          },
          "metadata": {
            "needs_background": "light"
          }
        }
      ]
    },
    {
      "cell_type": "code",
      "source": [
        "# a model with two intermediate layers\n",
        "model=keras.Sequential([\n",
        "    layers.Dense(96, activation=\"relu\"),\n",
        "    layers.Dense(96, activation=\"relu\"),\n",
        "    layers.Dense(10, activation=\"softmax\"),\n",
        "])\n",
        "\n",
        "model.compile(optimizer=\"rmsprop\",\n",
        "              loss=\"sparse_categorical_crossentropy\",\n",
        "              metrics=[\"accuracy\"])"
      ],
      "metadata": {
        "id": "VNH2rGgPobk7"
      },
      "execution_count": 21,
      "outputs": []
    },
    {
      "cell_type": "code",
      "source": [
        "history_large_model = model.fit(\n",
        "    train_images, \n",
        "    train_labels,\n",
        "    epochs=20,\n",
        "    batch_size=128,\n",
        "    validation_split=0.2)"
      ],
      "metadata": {
        "colab": {
          "base_uri": "https://localhost:8080/"
        },
        "id": "IQ2tXRiOo-yb",
        "outputId": "d32faa0a-f8e8-47e7-aba5-d8de956bdfe8"
      },
      "execution_count": 22,
      "outputs": [
        {
          "output_type": "stream",
          "name": "stdout",
          "text": [
            "Epoch 1/20\n",
            "375/375 [==============================] - 3s 6ms/step - loss: 0.3515 - accuracy: 0.8995 - val_loss: 0.1815 - val_accuracy: 0.9485\n",
            "Epoch 2/20\n",
            "375/375 [==============================] - 2s 4ms/step - loss: 0.1545 - accuracy: 0.9535 - val_loss: 0.1345 - val_accuracy: 0.9610\n",
            "Epoch 3/20\n",
            "375/375 [==============================] - 1s 4ms/step - loss: 0.1085 - accuracy: 0.9679 - val_loss: 0.1104 - val_accuracy: 0.9667\n",
            "Epoch 4/20\n",
            "375/375 [==============================] - 1s 4ms/step - loss: 0.0836 - accuracy: 0.9744 - val_loss: 0.1013 - val_accuracy: 0.9707\n",
            "Epoch 5/20\n",
            "375/375 [==============================] - 1s 4ms/step - loss: 0.0661 - accuracy: 0.9800 - val_loss: 0.0967 - val_accuracy: 0.9737\n",
            "Epoch 6/20\n",
            "375/375 [==============================] - 1s 4ms/step - loss: 0.0542 - accuracy: 0.9833 - val_loss: 0.1027 - val_accuracy: 0.9717\n",
            "Epoch 7/20\n",
            "375/375 [==============================] - 2s 5ms/step - loss: 0.0457 - accuracy: 0.9865 - val_loss: 0.0895 - val_accuracy: 0.9758\n",
            "Epoch 8/20\n",
            "375/375 [==============================] - 1s 4ms/step - loss: 0.0376 - accuracy: 0.9890 - val_loss: 0.0997 - val_accuracy: 0.9703\n",
            "Epoch 9/20\n",
            "375/375 [==============================] - 2s 5ms/step - loss: 0.0309 - accuracy: 0.9902 - val_loss: 0.0937 - val_accuracy: 0.9768\n",
            "Epoch 10/20\n",
            "375/375 [==============================] - 2s 4ms/step - loss: 0.0266 - accuracy: 0.9919 - val_loss: 0.1094 - val_accuracy: 0.9727\n",
            "Epoch 11/20\n",
            "375/375 [==============================] - 1s 4ms/step - loss: 0.0216 - accuracy: 0.9937 - val_loss: 0.1027 - val_accuracy: 0.9751\n",
            "Epoch 12/20\n",
            "375/375 [==============================] - 1s 4ms/step - loss: 0.0186 - accuracy: 0.9942 - val_loss: 0.1099 - val_accuracy: 0.9730\n",
            "Epoch 13/20\n",
            "375/375 [==============================] - 1s 4ms/step - loss: 0.0163 - accuracy: 0.9950 - val_loss: 0.1134 - val_accuracy: 0.9762\n",
            "Epoch 14/20\n",
            "375/375 [==============================] - 1s 4ms/step - loss: 0.0140 - accuracy: 0.9957 - val_loss: 0.1043 - val_accuracy: 0.9765\n",
            "Epoch 15/20\n",
            "375/375 [==============================] - 1s 4ms/step - loss: 0.0115 - accuracy: 0.9964 - val_loss: 0.1246 - val_accuracy: 0.9738\n",
            "Epoch 16/20\n",
            "375/375 [==============================] - 1s 4ms/step - loss: 0.0095 - accuracy: 0.9972 - val_loss: 0.1251 - val_accuracy: 0.9748\n",
            "Epoch 17/20\n",
            "375/375 [==============================] - 2s 5ms/step - loss: 0.0086 - accuracy: 0.9974 - val_loss: 0.1345 - val_accuracy: 0.9746\n",
            "Epoch 18/20\n",
            "375/375 [==============================] - 2s 5ms/step - loss: 0.0078 - accuracy: 0.9975 - val_loss: 0.1249 - val_accuracy: 0.9765\n",
            "Epoch 19/20\n",
            "375/375 [==============================] - 1s 4ms/step - loss: 0.0064 - accuracy: 0.9980 - val_loss: 0.1354 - val_accuracy: 0.9738\n",
            "Epoch 20/20\n",
            "375/375 [==============================] - 1s 4ms/step - loss: 0.0051 - accuracy: 0.9984 - val_loss: 0.1338 - val_accuracy: 0.9761\n"
          ]
        }
      ]
    },
    {
      "cell_type": "code",
      "source": [
        "import matplotlib.pyplot as plt\n",
        "loss= history_large_model.history[\"loss\"]\n",
        "val_loss=history_large_model.history[\"val_loss\"]\n",
        "\n",
        "epoches=range(1,len(loss)+1)\n",
        "\n",
        "plt.plot(epoches,loss,'r',label=\"Training loss\")\n",
        "plt.plot(epoches,val_loss,'g',label=\"Validation loss\")\n",
        "plt.xlabel(\"Epoches\")\n",
        "plt.ylabel(\"loss values\")\n",
        "plt.title(\"plot of training and validation loss\")\n",
        "plt.legend()\n",
        "plt.show()"
      ],
      "metadata": {
        "colab": {
          "base_uri": "https://localhost:8080/",
          "height": 295
        },
        "id": "9S3EsWVopJ78",
        "outputId": "0c25d558-ad51-482b-8ea9-e990c62b2c39"
      },
      "execution_count": 24,
      "outputs": [
        {
          "output_type": "display_data",
          "data": {
            "text/plain": [
              "<Figure size 432x288 with 1 Axes>"
            ],
            "image/png": "[encoded data removed]"
          },
          "metadata": {
            "needs_background": "light"
          }
        }
      ]
    },
    {
      "cell_type": "code",
      "source": [
        "\n",
        "accuracy= history_large_model.history[\"accuracy\"]\n",
        "val_accuracy=history_large_model.history[\"val_accuracy\"]\n",
        "\n",
        "epoches=range(1,len(accuracy)+1)\n",
        "\n",
        "plt.plot(epoches,accuracy,'r',label=\"Training accuracy\")\n",
        "plt.plot(epoches,val_accuracy,'g',label=\"Validation accuracy\")\n",
        "plt.xlabel(\"Epoches\")\n",
        "plt.ylabel(\"accuracy \")\n",
        "plt.title(\"plot of training and validation accuracy\")\n",
        "plt.legend()\n",
        "plt.show()"
      ],
      "metadata": {
        "colab": {
          "base_uri": "https://localhost:8080/",
          "height": 295
        },
        "id": "Mxx4SBAmp_gR",
        "outputId": "17433927-a58b-495f-b7df-bf0e342c33ec"
      },
      "execution_count": 25,
      "outputs": [
        {
          "output_type": "display_data",
          "data": {
            "text/plain": [
              "<Figure size 432x288 with 1 Axes>"
            ],
            "image/png": "[encoded data removed]"
          },
          "metadata": {
            "needs_background": "light"
          }
        }
      ]
    },
    {
      "cell_type": "code",
      "source": [
        "!pip install keras-tuner -q"
      ],
      "metadata": {
        "id": "NBkA59l5NoAC"
      },
      "execution_count": 5,
      "outputs": []
    },
    {
      "cell_type": "code",
      "source": [
        "def build_model(hp):\n",
        "  units=hp.Int(name=\"units\",min_value=16,max_value=64,step=16)\n",
        "  model=keras.Sequential([\n",
        "      layers.Dense(units,activation=\"relu\"),\n",
        "      layers.Dense(10,\"softmax\")\n",
        "  ])\n",
        "  optimizer=hp.Choice(name=\"optimizer\",values=[\"rmsprop\",\"adam\"])\n",
        "  model.compile(optimizer=optimizer,\n",
        "                loss=\"sparse_categorical_crossentropy\",\n",
        "                metrics=[\"accuracy\"])\n",
        "  return model\n"
      ],
      "metadata": {
        "id": "py5lVE_4N3Li"
      },
      "execution_count": 12,
      "outputs": []
    },
    {
      "cell_type": "code",
      "source": [
        "import kerastuner as kt"
      ],
      "metadata": {
        "id": "YkOvvUxlSuBJ"
      },
      "execution_count": 13,
      "outputs": []
    },
    {
      "cell_type": "code",
      "source": [
        "# Using KerasTuner HyperModel\n",
        "\n",
        "class simpleHyperModel(kt.HyperModel):\n",
        "  def __init__(self,num_classes):\n",
        "    self.num_classes=num_classes\n",
        "\n",
        "  def build_model(self,hp):\n",
        "    units=hp.Int(name=\"units\",min_value=16,max_value=64,step=16)\n",
        "    model=keras.Sequential([\n",
        "        layers.Dense(units,activation=\"relu\"),\n",
        "        layers.Dense(self.num_classes,\"softmax\")\n",
        "        ])\n",
        "    optimizer=hp.Choice(name=\"optimizer\",values=[\"rmsprop\",\"adam\"])\n",
        "    model.compile(optimizer=optimizer,\n",
        "                  loss=\"sparse_categorical_crossentropy\",\n",
        "                  metrics=[\"accuracy\"])\n",
        "    return model"
      ],
      "metadata": {
        "id": "tH6ts_CjPoiE"
      },
      "execution_count": 14,
      "outputs": []
    },
    {
      "cell_type": "code",
      "source": [
        "hypermodel=simpleHyperModel(num_classes=10)"
      ],
      "metadata": {
        "id": "IZPOPWgeRfti"
      },
      "execution_count": 15,
      "outputs": []
    },
    {
      "cell_type": "code",
      "source": [
        "# let's try BayesianOptimization tuner of keras of the hard coded model(build_model,)\n",
        "# validation accuracy has to maximized and loss has to be minimized  and we need to explicitly specify it in keras tuner\n",
        "objective = kt.Objective(\n",
        "    name=\"val_accuracy\",\n",
        "    direction=\"max\")\n",
        "\n",
        "tunner=kt.BayesianOptimization(\n",
        "    build_model,\n",
        "    objective=objective,# Specify the metric that the tuner will seek to optimize.\n",
        "    max_trials=100, # Maximum number of different model configurations (“trials”) to try before ending the search.\n",
        "    executions_per_trial=2, # how many training rounds (executions) to run for each model configuration (trial)\n",
        "    directory=\"mnist_kt_test\", # Where to store search logs\n",
        "    overwrite=True, #overwrite data in directory to start a new search. Set this to True if you’ve\n",
        " # modified the model-building function\n",
        ")\n"
      ],
      "metadata": {
        "id": "IdA1zK2JSiS1"
      },
      "execution_count": 16,
      "outputs": []
    },
    {
      "cell_type": "code",
      "source": [],
      "metadata": {
        "id": "p3__UR36Uyp8"
      },
      "execution_count": null,
      "outputs": []
    },
    {
      "cell_type": "markdown",
      "source": [
        "**Now let's start our search space and we have to split our data into training,validation and test sets**"
      ],
      "metadata": {
        "id": "xuT6CEy8WOIq"
      }
    },
    {
      "cell_type": "code",
      "source": [
        "(x_train, y_train), (x_test, y_test) = keras.datasets.mnist.load_data()\n",
        "x_train = x_train.reshape((-1, 28 * 28)).astype(\"float32\") / 255\n",
        "x_test = x_test.reshape((-1, 28 * 28)).astype(\"float32\") / 255\n",
        "x_train_full = x_train[:]\n",
        "y_train_full = y_train[:]\n",
        "num_val_samples = 10000\n",
        "x_train, x_val = x_train[:-num_val_samples], x_train[-num_val_samples:]\n",
        "y_train, y_val = y_train[:-num_val_samples], y_train[-num_val_samples:]\n",
        "\n",
        "#Use a large number of epochs (you don’t know in advance how many epochs each\n",
        "#model will need), and use an EarlyStopping callback to stop training when you start\n",
        "#overfitting.\n",
        "callbacks = [\n",
        "    keras.callbacks.EarlyStopping(monitor=\"val_loss\", patience=5),\n",
        "    ]\n",
        "\n",
        " #This takes the same arguments as fit() (it simply passes them down to fit() for each new model).   \n",
        "tunner.search(\n",
        "    x_train, \n",
        "    y_train,\n",
        "    batch_size=128,\n",
        "    epochs=100,\n",
        "    validation_data=(x_val, y_val),\n",
        "    callbacks=callbacks,\n",
        "    verbose=2,\n",
        ")"
      ],
      "metadata": {
        "colab": {
          "base_uri": "https://localhost:8080/"
        },
        "id": "SRLtzHmvWLmc",
        "outputId": "94c61520-05c0-47fe-c583-73aeacc1a3d2"
      },
      "execution_count": null,
      "outputs": [
        {
          "output_type": "stream",
          "name": "stdout",
          "text": [
            "Trial 99 Complete [00h 01m 13s]\n",
            "val_accuracy: 0.9751999974250793\n",
            "\n",
            "Best val_accuracy So Far: 0.9764500260353088\n",
            "Total elapsed time: 02h 07m 06s\n",
            "\n",
            "Search: Running Trial #100\n",
            "\n",
            "Value             |Best Value So Far |Hyperparameter\n",
            "64                |64                |units\n",
            "adam              |adam              |optimizer\n",
            "\n",
            "Epoch 1/100\n",
            "391/391 - 3s - loss: 0.4613 - accuracy: 0.8765 - val_loss: 0.2401 - val_accuracy: 0.9344 - 3s/epoch - 7ms/step\n",
            "Epoch 2/100\n",
            "391/391 - 1s - loss: 0.2195 - accuracy: 0.9377 - val_loss: 0.1840 - val_accuracy: 0.9480 - 1s/epoch - 3ms/step\n",
            "Epoch 3/100\n",
            "391/391 - 2s - loss: 0.1703 - accuracy: 0.9516 - val_loss: 0.1537 - val_accuracy: 0.9576 - 2s/epoch - 4ms/step\n",
            "Epoch 4/100\n",
            "391/391 - 2s - loss: 0.1414 - accuracy: 0.9595 - val_loss: 0.1393 - val_accuracy: 0.9604 - 2s/epoch - 5ms/step\n",
            "Epoch 5/100\n",
            "391/391 - 2s - loss: 0.1214 - accuracy: 0.9649 - val_loss: 0.1302 - val_accuracy: 0.9630 - 2s/epoch - 4ms/step\n",
            "Epoch 6/100\n",
            "391/391 - 1s - loss: 0.1060 - accuracy: 0.9694 - val_loss: 0.1178 - val_accuracy: 0.9663 - 1s/epoch - 3ms/step\n",
            "Epoch 7/100\n",
            "391/391 - 1s - loss: 0.0926 - accuracy: 0.9738 - val_loss: 0.1104 - val_accuracy: 0.9671 - 1s/epoch - 3ms/step\n",
            "Epoch 8/100\n",
            "391/391 - 2s - loss: 0.0827 - accuracy: 0.9760 - val_loss: 0.1036 - val_accuracy: 0.9691 - 2s/epoch - 4ms/step\n",
            "Epoch 9/100\n",
            "391/391 - 1s - loss: 0.0737 - accuracy: 0.9790 - val_loss: 0.0989 - val_accuracy: 0.9719 - 1s/epoch - 4ms/step\n",
            "Epoch 10/100\n",
            "391/391 - 1s - loss: 0.0665 - accuracy: 0.9808 - val_loss: 0.0989 - val_accuracy: 0.9715 - 1s/epoch - 4ms/step\n",
            "Epoch 11/100\n",
            "391/391 - 2s - loss: 0.0602 - accuracy: 0.9831 - val_loss: 0.0971 - val_accuracy: 0.9724 - 2s/epoch - 4ms/step\n",
            "Epoch 12/100\n",
            "391/391 - 2s - loss: 0.0546 - accuracy: 0.9845 - val_loss: 0.0994 - val_accuracy: 0.9701 - 2s/epoch - 5ms/step\n",
            "Epoch 13/100\n",
            "391/391 - 2s - loss: 0.0486 - accuracy: 0.9870 - val_loss: 0.0979 - val_accuracy: 0.9713 - 2s/epoch - 4ms/step\n",
            "Epoch 14/100\n",
            "391/391 - 1s - loss: 0.0450 - accuracy: 0.9872 - val_loss: 0.0951 - val_accuracy: 0.9731 - 1s/epoch - 4ms/step\n",
            "Epoch 15/100\n",
            "391/391 - 2s - loss: 0.0405 - accuracy: 0.9891 - val_loss: 0.0922 - val_accuracy: 0.9738 - 2s/epoch - 4ms/step\n",
            "Epoch 16/100\n",
            "391/391 - 1s - loss: 0.0369 - accuracy: 0.9898 - val_loss: 0.0948 - val_accuracy: 0.9732 - 1s/epoch - 4ms/step\n",
            "Epoch 17/100\n",
            "391/391 - 1s - loss: 0.0333 - accuracy: 0.9917 - val_loss: 0.0940 - val_accuracy: 0.9735 - 1s/epoch - 4ms/step\n",
            "Epoch 18/100\n",
            "391/391 - 2s - loss: 0.0304 - accuracy: 0.9921 - val_loss: 0.0924 - val_accuracy: 0.9746 - 2s/epoch - 4ms/step\n",
            "Epoch 19/100\n",
            "391/391 - 1s - loss: 0.0279 - accuracy: 0.9929 - val_loss: 0.0931 - val_accuracy: 0.9745 - 1s/epoch - 4ms/step\n",
            "Epoch 20/100\n",
            "391/391 - 2s - loss: 0.0255 - accuracy: 0.9934 - val_loss: 0.0929 - val_accuracy: 0.9754 - 2s/epoch - 5ms/step\n",
            "Epoch 1/100\n",
            "391/391 - 3s - loss: 0.4590 - accuracy: 0.8740 - val_loss: 0.2378 - val_accuracy: 0.9329 - 3s/epoch - 8ms/step\n",
            "Epoch 2/100\n",
            "391/391 - 1s - loss: 0.2255 - accuracy: 0.9356 - val_loss: 0.1816 - val_accuracy: 0.9499 - 1s/epoch - 3ms/step\n",
            "Epoch 3/100\n",
            "391/391 - 1s - loss: 0.1742 - accuracy: 0.9501 - val_loss: 0.1567 - val_accuracy: 0.9551 - 1s/epoch - 4ms/step\n",
            "Epoch 4/100\n",
            "391/391 - 1s - loss: 0.1422 - accuracy: 0.9596 - val_loss: 0.1325 - val_accuracy: 0.9613 - 1s/epoch - 4ms/step\n",
            "Epoch 5/100\n",
            "391/391 - 1s - loss: 0.1193 - accuracy: 0.9656 - val_loss: 0.1223 - val_accuracy: 0.9657 - 1s/epoch - 4ms/step\n",
            "Epoch 6/100\n",
            "391/391 - 1s - loss: 0.1012 - accuracy: 0.9705 - val_loss: 0.1131 - val_accuracy: 0.9652 - 1s/epoch - 4ms/step\n",
            "Epoch 7/100\n",
            "391/391 - 1s - loss: 0.0895 - accuracy: 0.9748 - val_loss: 0.1094 - val_accuracy: 0.9675 - 1s/epoch - 4ms/step\n",
            "Epoch 8/100\n",
            "391/391 - 1s - loss: 0.0780 - accuracy: 0.9778 - val_loss: 0.1009 - val_accuracy: 0.9717 - 1s/epoch - 4ms/step\n",
            "Epoch 9/100\n",
            "391/391 - 2s - loss: 0.0694 - accuracy: 0.9807 - val_loss: 0.1064 - val_accuracy: 0.9684 - 2s/epoch - 5ms/step\n",
            "Epoch 10/100\n"
          ]
        }
      ]
    }
  ]
}