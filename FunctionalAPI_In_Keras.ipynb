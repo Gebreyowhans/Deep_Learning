{
  "nbformat": 4,
  "nbformat_minor": 0,
  "metadata": {
    "colab": {
      "provenance": [],
      "authorship_tag": "ABX9TyMWAo4/ChThNgBFzDxvuIYT",
      "include_colab_link": true
    },
    "kernelspec": {
      "name": "python3",
      "display_name": "Python 3"
    },
    "language_info": {
      "name": "python"
    }
  },
  "cells": [
    {
      "cell_type": "markdown",
      "metadata": {
        "id": "view-in-github",
        "colab_type": "text"
      },
      "source": [
        "<a href=\"https://colab.research.google.com/github/Gebreyowhans/Deep_Learning/blob/main/FunctionalAPI_In_Keras.ipynb\" target=\"_parent\"><img src=\"https://colab.research.google.com/assets/colab-badge.svg\" alt=\"Open In Colab\"/></a>"
      ]
    },
    {
      "cell_type": "code",
      "execution_count": 2,
      "metadata": {
        "id": "kLIsETO45wyO"
      },
      "outputs": [],
      "source": [
        "import tensorflow as tf\n",
        "from tensorflow import keras\n",
        "from tensorflow.keras import layers"
      ]
    },
    {
      "cell_type": "code",
      "source": [
        "from os import name\n",
        "inputs=keras.Input(shape=(3,),name=\"InputData\")\n",
        "features=layers.Dense(64,activation=\"relu\")(inputs)\n",
        "outputs=layers.Dense(10,activation=\"softmax\")(features)\n",
        "model=keras.Model(inputs=inputs,outputs=outputs,name=\"Functional Model\")\n"
      ],
      "metadata": {
        "id": "-rz0yw8Z52XX"
      },
      "execution_count": 9,
      "outputs": []
    },
    {
      "cell_type": "code",
      "source": [
        "model.summary()"
      ],
      "metadata": {
        "colab": {
          "base_uri": "https://localhost:8080/"
        },
        "id": "ZmmxCiQp8rc2",
        "outputId": "c4f9d7ce-a070-48a3-b08a-bf7e38cd6eeb"
      },
      "execution_count": 5,
      "outputs": [
        {
          "output_type": "stream",
          "name": "stdout",
          "text": [
            "Model: \"Functional Model\"\n",
            "_________________________________________________________________\n",
            " Layer (type)                Output Shape              Param #   \n",
            "=================================================================\n",
            " InputData (InputLayer)      [(None, 3)]               0         \n",
            "                                                                 \n",
            " dense_2 (Dense)             (None, 64)                256       \n",
            "                                                                 \n",
            " dense_3 (Dense)             (None, 10)                650       \n",
            "                                                                 \n",
            "=================================================================\n",
            "Total params: 906\n",
            "Trainable params: 906\n",
            "Non-trainable params: 0\n",
            "_________________________________________________________________\n"
          ]
        }
      ]
    },
    {
      "cell_type": "markdown",
      "source": [
        "**A multi-input, multi-output Functional model to rank customer support\n",
        "tickets by priority and route them to the appropriate\n",
        "department.**"
      ],
      "metadata": {
        "id": "_D2M8xwRiVaM"
      }
    },
    {
      "cell_type": "code",
      "source": [
        "vocabulary_size = 10000\n",
        "num_tags = 100\n",
        "num_departments = 4"
      ],
      "metadata": {
        "id": "xwnQMkEYiYUv"
      },
      "execution_count": 3,
      "outputs": []
    },
    {
      "cell_type": "code",
      "source": [
        "# Define model inputs.\n",
        "title=keras.Input(shape=(vocabulary_size,),name=\"title\")\n",
        "text_body=keras.Input(shape=(vocabulary_size,),name=\"text_body\")\n",
        "tags=keras.Input(shape=(num_tags,),name=\"tags\")\n",
        "\n",
        "#Combine input features into a single tensor, features, by concatenating them.\n",
        "features=layers.Concatenate()([title,text_body,tags])\n",
        "\n",
        "#Apply an intermediate layer to recombine input features into richer representations.\n",
        "features=layers.Dense(64,activation=\"relu\")(features)\n",
        "\n",
        "# Define model outputs.\n",
        "priority=layers.Dense(1,activation=\"sigmoid\",name=\"priority\")(features)\n",
        "department=layers.Dense(num_departments,activation=\"softmax\",name=\"department\")(features)\n",
        "\n",
        "# Create the model by specifying its inputs and outputs.The Functional\n",
        "model=keras.Model(inputs=[title,text_body,tags],outputs=[priority,department])"
      ],
      "metadata": {
        "id": "eWUPofvcijgh"
      },
      "execution_count": 4,
      "outputs": []
    },
    {
      "cell_type": "markdown",
      "source": [
        "**Training the functional model by providing lists of input and target arrays**"
      ],
      "metadata": {
        "id": "S0D0Yy6LmiCR"
      }
    },
    {
      "cell_type": "code",
      "source": [
        "import numpy as np\n",
        "num_samples = 1280"
      ],
      "metadata": {
        "id": "juwpRGY_mmDN"
      },
      "execution_count": 5,
      "outputs": []
    },
    {
      "cell_type": "code",
      "source": [
        "# Dummy input data\n",
        "title_data=np.random.randint(0,2,size=(num_samples,vocabulary_size))\n",
        "text_body_data=np.random.randint(0,2,size=(num_samples,vocabulary_size))\n",
        "tags_data=np.random.randint(0,2,size=(num_samples,num_tags))\n",
        "\n",
        "# Dummy target data\n",
        "priority_data=np.random.random(size=(num_samples,1))\n",
        "department_data=np.random.randint(0,2,size=(num_samples,num_departments))\n",
        "\n",
        "#Compile the model\n",
        "model.compile(optimizer=\"rmsprop\",\n",
        "              loss=[\"mean_squared_error\", \"categorical_crossentropy\"],\n",
        "              metrics=[[\"mean_absolute_error\"], [\"accuracy\"]])\n"
      ],
      "metadata": {
        "id": "TDPcAVJknEp-"
      },
      "execution_count": 7,
      "outputs": []
    },
    {
      "cell_type": "code",
      "source": [
        "title_data[:10]\n",
        "title_data.shape"
      ],
      "metadata": {
        "colab": {
          "base_uri": "https://localhost:8080/"
        },
        "id": "QbBLODY-rZof",
        "outputId": "8dac8152-195d-4547-8716-e06c44f34e8c"
      },
      "execution_count": 9,
      "outputs": [
        {
          "output_type": "execute_result",
          "data": {
            "text/plain": [
              "(1280, 10000)"
            ]
          },
          "metadata": {},
          "execution_count": 9
        }
      ]
    },
    {
      "cell_type": "code",
      "source": [
        "text_body_data[:10]\n",
        "text_body_data.shape"
      ],
      "metadata": {
        "colab": {
          "base_uri": "https://localhost:8080/"
        },
        "id": "jBO1HaPLroz3",
        "outputId": "fce0658a-c5ec-494f-d3f1-0d32d0b64de6"
      },
      "execution_count": 11,
      "outputs": [
        {
          "output_type": "execute_result",
          "data": {
            "text/plain": [
              "(1280, 10000)"
            ]
          },
          "metadata": {},
          "execution_count": 11
        }
      ]
    },
    {
      "cell_type": "code",
      "source": [
        "tags_data[:10]\n",
        "tags_data.shape"
      ],
      "metadata": {
        "colab": {
          "base_uri": "https://localhost:8080/"
        },
        "id": "KGTXLvv0r18G",
        "outputId": "8fe377cb-b908-40f1-e598-ed747c517c0c"
      },
      "execution_count": 13,
      "outputs": [
        {
          "output_type": "execute_result",
          "data": {
            "text/plain": [
              "(1280, 100)"
            ]
          },
          "metadata": {},
          "execution_count": 13
        }
      ]
    },
    {
      "cell_type": "code",
      "source": [
        "priority_data[:10]\n",
        "priority_data.shape"
      ],
      "metadata": {
        "colab": {
          "base_uri": "https://localhost:8080/"
        },
        "id": "EJY4N-3JsKvS",
        "outputId": "82f7f96c-68c0-4e0e-ad4a-f5969b3f418d"
      },
      "execution_count": 15,
      "outputs": [
        {
          "output_type": "execute_result",
          "data": {
            "text/plain": [
              "(1280, 1)"
            ]
          },
          "metadata": {},
          "execution_count": 15
        }
      ]
    },
    {
      "cell_type": "code",
      "source": [
        "department_data[:10]\n",
        "department_data.shape"
      ],
      "metadata": {
        "colab": {
          "base_uri": "https://localhost:8080/"
        },
        "id": "80S9aOimsRY4",
        "outputId": "6c4c3b95-4ef8-47cc-a8fb-65bc45dbf40e"
      },
      "execution_count": 17,
      "outputs": [
        {
          "output_type": "execute_result",
          "data": {
            "text/plain": [
              "(1280, 4)"
            ]
          },
          "metadata": {},
          "execution_count": 17
        }
      ]
    },
    {
      "cell_type": "code",
      "source": [
        "# Fit the model\n",
        "model.fit([title_data, text_body_data, tags_data],\n",
        "          [priority_data, department_data],\n",
        "          epochs=1)"
      ],
      "metadata": {
        "colab": {
          "base_uri": "https://localhost:8080/"
        },
        "id": "llMN3WBmpM0A",
        "outputId": "411b674e-bf02-4b01-a8a5-d9c826a59d7f"
      },
      "execution_count": 19,
      "outputs": [
        {
          "output_type": "stream",
          "name": "stdout",
          "text": [
            "40/40 [==============================] - 2s 19ms/step - loss: 25.6493 - priority_loss: 0.3255 - department_loss: 25.3238 - priority_mean_absolute_error: 0.4907 - department_accuracy: 0.2492\n"
          ]
        },
        {
          "output_type": "execute_result",
          "data": {
            "text/plain": [
              "<keras.callbacks.History at 0x7faba03c0af0>"
            ]
          },
          "metadata": {},
          "execution_count": 19
        }
      ]
    },
    {
      "cell_type": "code",
      "source": [
        "#Evaluate the model\n",
        "model.evaluate([title_data, text_body_data, tags_data],\n",
        "               [priority_data, department_data])"
      ],
      "metadata": {
        "colab": {
          "base_uri": "https://localhost:8080/"
        },
        "id": "GJT4AOczptZ2",
        "outputId": "6dd5e540-f139-4f91-f784-4e9cbd3c7160"
      },
      "execution_count": 20,
      "outputs": [
        {
          "output_type": "stream",
          "name": "stdout",
          "text": [
            "40/40 [==============================] - 1s 11ms/step - loss: 25.5103 - priority_loss: 0.3383 - department_loss: 25.1720 - priority_mean_absolute_error: 0.5035 - department_accuracy: 0.0609\n"
          ]
        },
        {
          "output_type": "execute_result",
          "data": {
            "text/plain": [
              "[25.510324478149414,\n",
              " 0.33834439516067505,\n",
              " 25.171981811523438,\n",
              " 0.5035208463668823,\n",
              " 0.06093750149011612]"
            ]
          },
          "metadata": {},
          "execution_count": 20
        }
      ]
    },
    {
      "cell_type": "code",
      "source": [
        "# get predictions\n",
        "priority_preds, department_preds = model.predict(\n",
        "    [title_data, text_body_data, tags_data])"
      ],
      "metadata": {
        "colab": {
          "base_uri": "https://localhost:8080/"
        },
        "id": "KtNZ8SvBp7vA",
        "outputId": "da2a93d0-559d-4532-e9c8-cf2885c7ce90"
      },
      "execution_count": 21,
      "outputs": [
        {
          "output_type": "stream",
          "name": "stdout",
          "text": [
            "40/40 [==============================] - 1s 10ms/step\n"
          ]
        }
      ]
    },
    {
      "cell_type": "markdown",
      "source": [
        "**Training a model by providing dicts of input and target arrays**"
      ],
      "metadata": {
        "id": "x858Cm2bqWC0"
      }
    },
    {
      "cell_type": "code",
      "source": [
        "model.compile(optimizer=\"rmsprop\",\n",
        "              loss={\"priority\": \"mean_squared_error\", \"department\":\"categorical_crossentropy\"},\n",
        "              metrics={\"priority\": [\"mean_absolute_error\"], \"department\":[\"accuracy\"]})\n",
        "\n",
        "model.fit({\"title\": title_data, \"text_body\": text_body_data,\n",
        "           \"tags\": tags_data},\n",
        "          {\"priority\": priority_data, \"department\": department_data},\n",
        "          epochs=1)\n",
        "\n",
        "model.evaluate({\"title\": title_data, \"text_body\": text_body_data,\n",
        "                \"tags\": tags_data},\n",
        "               {\"priority\": priority_data, \"department\": department_data})\n",
        "\n",
        "priority_preds, department_preds = model.predict(\n",
        "    {\"title\": title_data, \"text_body\": text_body_data, \"tags\": tags_data})"
      ],
      "metadata": {
        "colab": {
          "base_uri": "https://localhost:8080/"
        },
        "id": "XcG6EBFTqcZj",
        "outputId": "a8969605-1bed-4f4a-cbbc-d10477b5dfe3"
      },
      "execution_count": 22,
      "outputs": [
        {
          "output_type": "stream",
          "name": "stdout",
          "text": [
            "40/40 [==============================] - 2s 20ms/step - loss: 37.1566 - priority_loss: 0.3383 - department_loss: 36.8183 - priority_mean_absolute_error: 0.5035 - department_accuracy: 0.2305\n",
            "40/40 [==============================] - 1s 11ms/step - loss: 45.9491 - priority_loss: 0.3383 - department_loss: 45.6107 - priority_mean_absolute_error: 0.5035 - department_accuracy: 0.5641\n",
            "40/40 [==============================] - 0s 8ms/step\n"
          ]
        }
      ]
    },
    {
      "cell_type": "code",
      "source": [],
      "metadata": {
        "id": "Ja-EW5w0uZxi"
      },
      "execution_count": null,
      "outputs": []
    },
    {
      "cell_type": "markdown",
      "source": [
        "**THE POWER OF THE FUNCTIONAL API: ACCESS TO LAYER CONNECTIVITY**\n",
        "\n",
        "***Let’s now visualize the connectivity of the model we just defined (the topology of the model) using plot_model()***"
      ],
      "metadata": {
        "id": "AkKZwWFqvV5B"
      }
    },
    {
      "cell_type": "code",
      "source": [
        "keras.utils.plot_model(model,\"ticket_classifier.png\")"
      ],
      "metadata": {
        "colab": {
          "base_uri": "https://localhost:8080/",
          "height": 369
        },
        "id": "QWygx0N6vmAb",
        "outputId": "0e22b9ba-815f-4294-bb69-79c12ea22bbf"
      },
      "execution_count": 23,
      "outputs": [
        {
          "output_type": "execute_result",
          "data": {
            "image/png": "[encoded data removed]",
            "text/plain": [
              "<IPython.core.display.Image object>"
            ]
          },
          "metadata": {},
          "execution_count": 23
        }
      ]
    },
    {
      "cell_type": "code",
      "source": [
        "# adjust the plot so that it includes shapes of input and output data\n",
        "keras.utils.plot_model(model, \"ticket_classifier_with_shape_info.png\", show_shapes=True)"
      ],
      "metadata": {
        "colab": {
          "base_uri": "https://localhost:8080/",
          "height": 422
        },
        "id": "-xiuh1KSwUaT",
        "outputId": "111fc593-951f-4178-bd20-69db725005b7"
      },
      "execution_count": 24,
      "outputs": [
        {
          "output_type": "execute_result",
          "data": {
            "image/png": "[encoded data removed]",
            "text/plain": [
              "<IPython.core.display.Image object>"
            ]
          },
          "metadata": {},
          "execution_count": 24
        }
      ]
    },
    {
      "cell_type": "markdown",
      "source": [
        "**Note : The “None” in the tensor shapes represents the batch size:\n",
        "this model allows batches of any size.**\n",
        "\n",
        "*Access to layer connectivity also means that you can inspect and reuse individual nodes (layer calls) in the graph. The\n",
        "**model.layers** model property provides the list of layers\n",
        "that make up the model, and for each layer we can query\n",
        "**layer.input** and **layer.output**.*"
      ],
      "metadata": {
        "id": "PgtyeRH7wz7i"
      }
    },
    {
      "cell_type": "code",
      "source": [
        "model.layers"
      ],
      "metadata": {
        "colab": {
          "base_uri": "https://localhost:8080/"
        },
        "id": "k6N8l5iexbGj",
        "outputId": "be6e07e0-847b-4372-db0f-ebdd952753cd"
      },
      "execution_count": 25,
      "outputs": [
        {
          "output_type": "execute_result",
          "data": {
            "text/plain": [
              "[<keras.engine.input_layer.InputLayer at 0x7faba4bc2cd0>,\n",
              " <keras.engine.input_layer.InputLayer at 0x7faba4bc2c70>,\n",
              " <keras.engine.input_layer.InputLayer at 0x7faba4b5f400>,\n",
              " <keras.layers.merging.concatenate.Concatenate at 0x7faba4b5f8e0>,\n",
              " <keras.layers.core.dense.Dense at 0x7faba4b5fcd0>,\n",
              " <keras.layers.core.dense.Dense at 0x7faba431f130>,\n",
              " <keras.layers.core.dense.Dense at 0x7faba431feb0>]"
            ]
          },
          "metadata": {},
          "execution_count": 25
        }
      ]
    },
    {
      "cell_type": "code",
      "source": [
        "model.layers[3].input"
      ],
      "metadata": {
        "colab": {
          "base_uri": "https://localhost:8080/"
        },
        "id": "eU4x-VaAxtEJ",
        "outputId": "3a735bee-c37c-4521-ab0a-cb2705154b81"
      },
      "execution_count": 27,
      "outputs": [
        {
          "output_type": "execute_result",
          "data": {
            "text/plain": [
              "[<KerasTensor: shape=(None, 10000) dtype=float32 (created by layer 'title')>,\n",
              " <KerasTensor: shape=(None, 10000) dtype=float32 (created by layer 'text_body')>,\n",
              " <KerasTensor: shape=(None, 100) dtype=float32 (created by layer 'tags')>]"
            ]
          },
          "metadata": {},
          "execution_count": 27
        }
      ]
    },
    {
      "cell_type": "code",
      "source": [
        "model.layers[3].output"
      ],
      "metadata": {
        "colab": {
          "base_uri": "https://localhost:8080/"
        },
        "id": "RAlNJJxCx5R2",
        "outputId": "a6cc3fdc-85ef-4043-aa5f-baad2e0f085d"
      },
      "execution_count": 28,
      "outputs": [
        {
          "output_type": "execute_result",
          "data": {
            "text/plain": [
              "<KerasTensor: shape=(None, 20100) dtype=float32 (created by layer 'concatenate')>"
            ]
          },
          "metadata": {},
          "execution_count": 28
        }
      ]
    },
    {
      "cell_type": "markdown",
      "source": [
        "*This enables us to do **feature extraction**, creating models\n",
        "that reuse intermediate features from another model.*\n",
        "\n",
        "\n",
        "# Feature Extraction\n",
        "Let’s say we want to add another output to the previous model—you want to estimate how long a given issue ticket will take to resolve, a kind of difficulty rating. we could do this via a classification layer over three categories: “quick,” “medium,” and “difficult.” we don’t need to recreate and\n",
        "retrain a model from scratch. We can start from the\n",
        "intermediate features of our previous model, since we\n",
        "have access to them, like the below.\n",
        "\n"
      ],
      "metadata": {
        "id": "fO-7BbDZyBWZ"
      }
    },
    {
      "cell_type": "code",
      "source": [
        "# Creating a new model by reusing intermediate layer outputs\n",
        "\n",
        "features=model.layers[4].output # layer[4] is our intermediate Dense layer\n",
        "difficulty=layers.Dense(3,activation=\"softmax\",name=\"difficulty\")(features)\n",
        "\n",
        "new_model=keras.Model(inputs=[title, text_body, tags],\n",
        "                      outputs=[priority, department, difficulty])"
      ],
      "metadata": {
        "id": "DE3k4tRtyntF"
      },
      "execution_count": 30,
      "outputs": []
    },
    {
      "cell_type": "markdown",
      "source": [
        "**Let’s now plot our new model**"
      ],
      "metadata": {
        "id": "yQh4kdtSzhLG"
      }
    },
    {
      "cell_type": "code",
      "source": [
        "keras.utils.plot_model(new_model,\"updated_ticket_classifier.png\",show_shapes=True)"
      ],
      "metadata": {
        "colab": {
          "base_uri": "https://localhost:8080/",
          "height": 422
        },
        "id": "wn0eyfGIznfZ",
        "outputId": "937dfd88-3837-466a-ccfd-94825fa998ac"
      },
      "execution_count": 31,
      "outputs": [
        {
          "output_type": "execute_result",
          "data": {
            "image/png": "[encoded data removed]",
            "text/plain": [
              "<IPython.core.display.Image object>"
            ]
          },
          "metadata": {},
          "execution_count": 31
        }
      ]
    }
  ]
}