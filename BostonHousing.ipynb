{
  "nbformat": 4,
  "nbformat_minor": 0,
  "metadata": {
    "colab": {
      "provenance": [],
      "authorship_tag": "ABX9TyN4WrQ37sR4qqyMWgHpY/Gr",
      "include_colab_link": true
    },
    "kernelspec": {
      "name": "python3",
      "display_name": "Python 3"
    },
    "language_info": {
      "name": "python"
    },
    "accelerator": "TPU",
    "gpuClass": "standard"
  },
  "cells": [
    {
      "cell_type": "markdown",
      "metadata": {
        "id": "view-in-github",
        "colab_type": "text"
      },
      "source": [
        "<a href=\"https://colab.research.google.com/github/Gebreyowhans/Deep_Learning/blob/main/BostonHousing.ipynb\" target=\"_parent\"><img src=\"https://colab.research.google.com/assets/colab-badge.svg\" alt=\"Open In Colab\"/></a>"
      ]
    },
    {
      "cell_type": "markdown",
      "source": [
        "**Loading the Boston housing dataset**"
      ],
      "metadata": {
        "id": "PWRe2JabGnPS"
      }
    },
    {
      "cell_type": "code",
      "source": [
        "from tensorflow.keras.datasets import boston_housing\n",
        "(train_data, train_targets), (test_data, test_targets) = (\n",
        "boston_housing.load_data())"
      ],
      "metadata": {
        "id": "oneAPVAQGp9L"
      },
      "execution_count": 2,
      "outputs": []
    },
    {
      "cell_type": "code",
      "source": [
        "print(\"Training data size \",len(train_data))\n",
        "print(\"Test data size \",len(test_data))\n",
        "\n",
        "print(\"shape of training data \",train_data.shape)\n",
        "\n",
        "\n"
      ],
      "metadata": {
        "colab": {
          "base_uri": "https://localhost:8080/"
        },
        "id": "qoMl1jDfGyDJ",
        "outputId": "d917ed3e-7617-4ac2-9690-daeaea3df55b"
      },
      "execution_count": 3,
      "outputs": [
        {
          "output_type": "stream",
          "name": "stdout",
          "text": [
            "Training data size  404\n",
            "Test data size  102\n",
            "shape of training data  (404, 13)\n"
          ]
        }
      ]
    },
    {
      "cell_type": "code",
      "source": [
        "print(\"the first training data before normalizing :\",train_data[0])\n",
        "train_targets[0]"
      ],
      "metadata": {
        "colab": {
          "base_uri": "https://localhost:8080/"
        },
        "id": "OKqnDniWH2AI",
        "outputId": "16372d69-f7aa-43ed-9333-31f9e991e365"
      },
      "execution_count": 3,
      "outputs": [
        {
          "output_type": "stream",
          "name": "stdout",
          "text": [
            "the first training data before normalizing : [  1.23247   0.        8.14      0.        0.538     6.142    91.7\n",
            "   3.9769    4.      307.       21.      396.9      18.72   ]\n"
          ]
        },
        {
          "output_type": "execute_result",
          "data": {
            "text/plain": [
              "15.2"
            ]
          },
          "metadata": {},
          "execution_count": 3
        }
      ]
    },
    {
      "cell_type": "markdown",
      "source": [
        "**Preparing the data**"
      ],
      "metadata": {
        "id": "Lv1C7nr4IJOe"
      }
    },
    {
      "cell_type": "code",
      "source": [
        "#Normalizing the data to make the features centered around a mean of zero and standard deviation of 1\n",
        "mean =train_data.mean(axis=0)\n",
        "train_data -=mean\n",
        "\n",
        "std=train_data.std(axis=0)\n",
        "\n",
        "train_data /=std\n",
        "\n",
        "test_data -=mean\n",
        "test_data /= std"
      ],
      "metadata": {
        "id": "1m-ZGxGCILAY"
      },
      "execution_count": 4,
      "outputs": []
    },
    {
      "cell_type": "code",
      "source": [
        "print(\"the first training data after normalizing :\",train_data[0])"
      ],
      "metadata": {
        "colab": {
          "base_uri": "https://localhost:8080/"
        },
        "id": "bx6Afi6FKS6c",
        "outputId": "b3dbee9d-0a61-4bd5-9acd-f1110d3c055e"
      },
      "execution_count": 5,
      "outputs": [
        {
          "output_type": "stream",
          "name": "stdout",
          "text": [
            "the first training data after normalizing : [-0.27224633 -0.48361547 -0.43576161 -0.25683275 -0.1652266  -0.1764426\n",
            "  0.81306188  0.1166983  -0.62624905 -0.59517003  1.14850044  0.44807713\n",
            "  0.8252202 ]\n"
          ]
        }
      ]
    },
    {
      "cell_type": "markdown",
      "source": [
        "**Building the regression model**"
      ],
      "metadata": {
        "id": "BxL6jBFqKt_R"
      }
    },
    {
      "cell_type": "code",
      "source": [
        "from tensorflow import keras\n",
        "from tensorflow.keras import layers\n"
      ],
      "metadata": {
        "id": "1tpgh25YKy3h"
      },
      "execution_count": 5,
      "outputs": []
    },
    {
      "cell_type": "code",
      "source": [
        "def build_model():\n",
        "  model=keras.Sequential([\n",
        "      layers.Dense(64,activation=\"relu\"),\n",
        "      layers.Dense(64,activation=\"relu\"),\n",
        "      layers.Dense(1)\n",
        "      ])\n",
        "  model.compile(optimizer=\"rmsprop\",\n",
        "                loss=\"mse\",\n",
        "                metrics=[\"mae\"])\n",
        "  return model"
      ],
      "metadata": {
        "id": "Xhk9sHmVLJXj"
      },
      "execution_count": 6,
      "outputs": []
    },
    {
      "cell_type": "markdown",
      "source": [
        "**K-fold validation would be best solution to deal with better performance of training a model with smalle data set**"
      ],
      "metadata": {
        "id": "IAEmyH6bPS23"
      }
    },
    {
      "cell_type": "code",
      "source": [
        "import numpy as np"
      ],
      "metadata": {
        "id": "yCBcdnjpQDqh"
      },
      "execution_count": 7,
      "outputs": []
    },
    {
      "cell_type": "code",
      "source": [
        "k = 4\n",
        "num_val_samples = len(train_data) // k\n",
        "num_epochs = 100\n",
        "all_scores = []\n",
        "for i in range(k):\n",
        "  print(f\"Processing fold #{i}\")\n",
        "  val_data = train_data[i * num_val_samples: (i + 1) * num_val_samples]\n",
        "  val_targets = train_targets[i * num_val_samples: (i + 1) * num_val_samples]\n",
        "  partial_train_data = np.concatenate(\n",
        "      [train_data[:i * num_val_samples],\n",
        "       train_data[(i + 1) * num_val_samples:]],\n",
        "       axis=0)\n",
        "  partial_train_targets = np.concatenate(\n",
        "      [train_targets[:i * num_val_samples],\n",
        "       train_targets[(i + 1) * num_val_samples:]],\n",
        "       axis=0)\n",
        "  model = build_model()\n",
        "  model.fit(partial_train_data, \n",
        "            partial_train_targets,\n",
        "            epochs=num_epochs, \n",
        "            batch_size=16, \n",
        "            verbose=0)\n",
        "  val_mse, val_mae = model.evaluate(val_data, val_targets, verbose=0)\n",
        "  all_scores.append(val_mae)\n"
      ],
      "metadata": {
        "colab": {
          "base_uri": "https://localhost:8080/"
        },
        "id": "4N1XzF5-Pd2s",
        "outputId": "2a760876-e9f7-4ed6-c4ec-e3dc913722fc"
      },
      "execution_count": 10,
      "outputs": [
        {
          "output_type": "stream",
          "name": "stdout",
          "text": [
            "Processing fold #0\n",
            "Processing fold #1\n",
            "Processing fold #2\n",
            "Processing fold #3\n"
          ]
        }
      ]
    },
    {
      "cell_type": "markdown",
      "source": [
        "**Generating predictions on new data**"
      ],
      "metadata": {
        "id": "Kf3bykCtQGKe"
      }
    },
    {
      "cell_type": "code",
      "source": [
        "predictions = model.predict(test_data)\n",
        "predictions[0]"
      ],
      "metadata": {
        "id": "yUAT3n1JLt8X",
        "colab": {
          "base_uri": "https://localhost:8080/"
        },
        "outputId": "cb6f1c5d-a2e8-4e4a-f7ad-0739c402684f"
      },
      "execution_count": 11,
      "outputs": [
        {
          "output_type": "stream",
          "name": "stdout",
          "text": [
            "4/4 [==============================] - 0s 5ms/step\n"
          ]
        },
        {
          "output_type": "execute_result",
          "data": {
            "text/plain": [
              "array([7.9469986], dtype=float32)"
            ]
          },
          "metadata": {},
          "execution_count": 11
        }
      ]
    }
  ]
}