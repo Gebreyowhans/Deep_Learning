{
  "nbformat": 4,
  "nbformat_minor": 0,
  "metadata": {
    "colab": {
      "provenance": [],
      "authorship_tag": "ABX9TyM0TCH8Sg5pcnStZvAznf+W",
      "include_colab_link": true
    },
    "kernelspec": {
      "name": "python3",
      "display_name": "Python 3"
    },
    "language_info": {
      "name": "python"
    }
  },
  "cells": [
    {
      "cell_type": "markdown",
      "metadata": {
        "id": "view-in-github",
        "colab_type": "text"
      },
      "source": [
        "<a href=\"https://colab.research.google.com/github/Gebreyowhans/Deep_Learning/blob/main/Subclassing_In_Keras.ipynb\" target=\"_parent\"><img src=\"https://colab.research.google.com/assets/colab-badge.svg\" alt=\"Open In Colab\"/></a>"
      ]
    },
    {
      "cell_type": "code",
      "execution_count": 3,
      "metadata": {
        "id": "7nmpbem42Z50"
      },
      "outputs": [],
      "source": [
        "import tensorflow as tf\n"
      ]
    },
    {
      "cell_type": "code",
      "source": [
        "from tensorflow import keras\n",
        "from tensorflow.keras import layers"
      ],
      "metadata": {
        "id": "Ql_hzs9Z2jn1"
      },
      "execution_count": 4,
      "outputs": []
    },
    {
      "cell_type": "markdown",
      "source": [
        "**A simple subclassed model**\n",
        "\n",
        "# When we subclass a model:\n",
        "\n",
        "1. In the** __init__()** method, define the layers the model will use.\n",
        "2. In the **call()** method, define the forward pass of the model, reusing the layers previously created.\n",
        "3. Instantiate your subclass, and call it on data to create its weights."
      ],
      "metadata": {
        "id": "Fcjq3PmQ262k"
      }
    },
    {
      "cell_type": "code",
      "source": [
        "class CustomerTicketModel(keras.Model):\n",
        "\n",
        "  def __init__(self,num_departments):\n",
        "    super().__init__() #calling the super() constructor!\n",
        "\n",
        "    # Defining sublayers in the constructor.\n",
        "    self.concate_layer=layers.Concatenate()\n",
        "    self.mixing_layer=layers.Dense(64, activation=\"relu\")\n",
        "    self.priority_scorer = layers.Dense(1, activation=\"sigmoid\")\n",
        "    self.department_classifier = layers.Dense(\n",
        "        num_departments, activation=\"softmax\")\n",
        "    \n",
        "  #Define the forward pass in the call() method.\n",
        "  def call(self,inputs):\n",
        "    title=inputs[\"title\"]\n",
        "    text_body=inputs[\"text_body\"]\n",
        "    tags = inputs[\"tags\"]\n",
        "    features=self.concate_layer([title,text_body,tags])\n",
        "    features=self.mixing_layer(features)\n",
        "    priority=self.priority_scorer(features)\n",
        "    department=self.department_classifier(features)\n",
        "\n",
        "    return priority,department\n",
        "    "
      ],
      "metadata": {
        "id": "m1U_edu228uk"
      },
      "execution_count": 7,
      "outputs": []
    },
    {
      "cell_type": "markdown",
      "source": [
        "# Note \n",
        "Once we’ve defined the model, we can instantiate it. Note\n",
        "that it will only create its weights the first time we call it on\n",
        "some data, much like Layer subclasses:"
      ],
      "metadata": {
        "id": "SlbGaXqw6uF7"
      }
    },
    {
      "cell_type": "code",
      "source": [
        "model = CustomerTicketModel(num_departments=4)"
      ],
      "metadata": {
        "id": "JPEhzYU664We"
      },
      "execution_count": 8,
      "outputs": []
    },
    {
      "cell_type": "code",
      "source": [
        "# since we didn't give the input to the model ,the weight will not be created\n",
        "model.weights"
      ],
      "metadata": {
        "colab": {
          "base_uri": "https://localhost:8080/"
        },
        "id": "O115WFvD8t3v",
        "outputId": "f1ed67d2-b785-4a74-effa-a317f3a219c3"
      },
      "execution_count": 9,
      "outputs": [
        {
          "output_type": "execute_result",
          "data": {
            "text/plain": [
              "[]"
            ]
          },
          "metadata": {},
          "execution_count": 9
        }
      ]
    },
    {
      "cell_type": "markdown",
      "source": [
        "*Creating dummy input and output data as we did in the functional api section*\n",
        "\n",
        "\n",
        "\n"
      ],
      "metadata": {
        "id": "ezUXAg3C7WSR"
      }
    },
    {
      "cell_type": "code",
      "source": [
        "\n",
        "import numpy as np\n",
        "num_samples = 1280\n",
        "vocabulary_size = 10000\n",
        "num_tags = 100\n",
        "num_departments = 4\n",
        "\n",
        "# Dummy input data\n",
        "title_data=np.random.randint(0,2,size=(num_samples,vocabulary_size))\n",
        "text_body_data=np.random.randint(0,2,size=(num_samples,vocabulary_size))\n",
        "tags_data=np.random.randint(0,2,size=(num_samples,num_tags))\n",
        "\n",
        "# Dummy target data\n",
        "priority_data=np.random.random(size=(num_samples,1))\n",
        "department_data=np.random.randint(0,2,size=(num_samples,num_departments))\n"
      ],
      "metadata": {
        "id": "oA7UHknY7eE3"
      },
      "execution_count": 12,
      "outputs": []
    },
    {
      "cell_type": "code",
      "source": [
        "priority, department = model(\n",
        "{\"title\": title_data, \"text_body\": text_body_data, \"tags\": tags_data})"
      ],
      "metadata": {
        "id": "fNdKfERl7A5t"
      },
      "execution_count": 13,
      "outputs": []
    },
    {
      "cell_type": "code",
      "source": [
        "priority"
      ],
      "metadata": {
        "colab": {
          "base_uri": "https://localhost:8080/"
        },
        "id": "cOUfl8SA9QY1",
        "outputId": "8135b3b9-77c0-4f22-8a7f-50f2501c5e22"
      },
      "execution_count": 14,
      "outputs": [
        {
          "output_type": "execute_result",
          "data": {
            "text/plain": [
              "<tf.Tensor: shape=(1280, 1), dtype=float32, numpy=\n",
              "array([[0.43043265],\n",
              "       [0.774653  ],\n",
              "       [0.49542344],\n",
              "       ...,\n",
              "       [0.640006  ],\n",
              "       [0.7406447 ],\n",
              "       [0.43854406]], dtype=float32)>"
            ]
          },
          "metadata": {},
          "execution_count": 14
        }
      ]
    },
    {
      "cell_type": "markdown",
      "source": [
        "*Compile the sub class model created before*"
      ],
      "metadata": {
        "id": "rz0vnnD-9yp2"
      }
    },
    {
      "cell_type": "code",
      "source": [
        "#The structure of what you pass as the loss and metrics arguments must match exactly what gets returned by call()—\n",
        "model.compile(optimizer=\"rmsprop\",\n",
        "              loss=[\"mean_squared_error\", \"categorical_crossentropy\"],\n",
        "              metrics=[[\"mean_absolute_error\"], [\"accuracy\"]])"
      ],
      "metadata": {
        "id": "QYJKYqAf9xaE"
      },
      "execution_count": 15,
      "outputs": []
    },
    {
      "cell_type": "code",
      "source": [
        "# fit the model\n",
        "\n",
        "#The structure of the input data must match exactly what is expected by the call() method —here, a dict with keys title, text_body, and tags.\n",
        "model.fit({\"title\": title_data,\n",
        "           \"text_body\": text_body_data,\n",
        "           \"tags\": tags_data},[priority_data, department_data],#The structure of the target data must match exactly what is returned by the call() method —here, a list of two elements.\n",
        "          epochs=1)"
      ],
      "metadata": {
        "colab": {
          "base_uri": "https://localhost:8080/"
        },
        "id": "XldVsDvH9_hc",
        "outputId": "9c3956e5-e1b0-4362-af32-5b849ad6b6d3"
      },
      "execution_count": 16,
      "outputs": [
        {
          "output_type": "stream",
          "name": "stdout",
          "text": [
            "40/40 [==============================] - 2s 23ms/step - loss: 34.6805 - output_1_loss: 0.3211 - output_2_loss: 34.3594 - output_1_mean_absolute_error: 0.4860 - output_2_accuracy: 0.1914\n"
          ]
        },
        {
          "output_type": "execute_result",
          "data": {
            "text/plain": [
              "<keras.callbacks.History at 0x7f16555c4280>"
            ]
          },
          "metadata": {},
          "execution_count": 16
        }
      ]
    },
    {
      "cell_type": "code",
      "source": [
        "#evaluate the subclass model\n",
        "model.evaluate({\"title\": title_data,\n",
        "                \"text_body\": text_body_data,\n",
        "                \"tags\": tags_data},\n",
        "               [priority_data, department_data])"
      ],
      "metadata": {
        "colab": {
          "base_uri": "https://localhost:8080/"
        },
        "id": "U4t9yKjF-fL8",
        "outputId": "cb06e027-464a-498a-a150-e0954cdd2ac1"
      },
      "execution_count": 17,
      "outputs": [
        {
          "output_type": "stream",
          "name": "stdout",
          "text": [
            "40/40 [==============================] - 1s 15ms/step - loss: 37.7040 - output_1_loss: 0.3293 - output_2_loss: 37.3747 - output_1_mean_absolute_error: 0.4937 - output_2_accuracy: 0.1281\n"
          ]
        },
        {
          "output_type": "execute_result",
          "data": {
            "text/plain": [
              "[37.70402908325195,\n",
              " 0.32930806279182434,\n",
              " 37.37471008300781,\n",
              " 0.49371036887168884,\n",
              " 0.12812499701976776]"
            ]
          },
          "metadata": {},
          "execution_count": 17
        }
      ]
    },
    {
      "cell_type": "code",
      "source": [
        "# Generate predictions\n",
        "priority_preds, department_preds = model.predict({\"title\": title_data,\n",
        "                                                  \"text_body\": text_body_data,\n",
        "                                                  \"tags\": tags_data})"
      ],
      "metadata": {
        "colab": {
          "base_uri": "https://localhost:8080/"
        },
        "id": "DieU1Tda-uJt",
        "outputId": "81847010-516c-4e5f-94bc-f6febdf2ef08"
      },
      "execution_count": 18,
      "outputs": [
        {
          "output_type": "stream",
          "name": "stdout",
          "text": [
            "40/40 [==============================] - 1s 10ms/step\n"
          ]
        }
      ]
    },
    {
      "cell_type": "markdown",
      "source": [
        "# Note\n",
        "A subclassed model is a piece of bytecode—a\n",
        "Python class with a call() method that contains raw code, so it will not plot the model in graphical form  or access layers connectivity information unlike the functional api approach"
      ],
      "metadata": {
        "id": "x-ze2sy8ANoe"
      }
    },
    {
      "cell_type": "code",
      "source": [
        "keras.utils.plot_model(model,\"Subclassed Model\",show_shapes=True)"
      ],
      "metadata": {
        "colab": {
          "base_uri": "https://localhost:8080/",
          "height": 311
        },
        "id": "Js7eBPCn_rcc",
        "outputId": "64cb19bd-2ac1-4edb-f979-aed6139707e5"
      },
      "execution_count": 19,
      "outputs": [
        {
          "output_type": "error",
          "ename": "ValueError",
          "evalue": "ignored",
          "traceback": [
            "\u001b[0;31m---------------------------------------------------------------------------\u001b[0m",
            "\u001b[0;31mValueError\u001b[0m                                Traceback (most recent call last)",
            "\u001b[0;32m<ipython-input-19-c26c892ca6ed>\u001b[0m in \u001b[0;36m<module>\u001b[0;34m\u001b[0m\n\u001b[0;32m----> 1\u001b[0;31m \u001b[0mkeras\u001b[0m\u001b[0;34m.\u001b[0m\u001b[0mutils\u001b[0m\u001b[0;34m.\u001b[0m\u001b[0mplot_model\u001b[0m\u001b[0;34m(\u001b[0m\u001b[0mmodel\u001b[0m\u001b[0;34m,\u001b[0m\u001b[0;34m\"Subclassed Model\"\u001b[0m\u001b[0;34m,\u001b[0m\u001b[0mshow_shapes\u001b[0m\u001b[0;34m=\u001b[0m\u001b[0;32mTrue\u001b[0m\u001b[0;34m)\u001b[0m\u001b[0;34m\u001b[0m\u001b[0;34m\u001b[0m\u001b[0m\n\u001b[0m",
            "\u001b[0;32m/usr/local/lib/python3.8/dist-packages/keras/utils/vis_utils.py\u001b[0m in \u001b[0;36mplot_model\u001b[0;34m(model, to_file, show_shapes, show_dtype, show_layer_names, rankdir, expand_nested, dpi, layer_range, show_layer_activations)\u001b[0m\n\u001b[1;32m    477\u001b[0m             \u001b[0;32mfrom\u001b[0m \u001b[0mIPython\u001b[0m \u001b[0;32mimport\u001b[0m \u001b[0mdisplay\u001b[0m\u001b[0;34m\u001b[0m\u001b[0;34m\u001b[0m\u001b[0m\n\u001b[1;32m    478\u001b[0m \u001b[0;34m\u001b[0m\u001b[0m\n\u001b[0;32m--> 479\u001b[0;31m             \u001b[0;32mreturn\u001b[0m \u001b[0mdisplay\u001b[0m\u001b[0;34m.\u001b[0m\u001b[0mImage\u001b[0m\u001b[0;34m(\u001b[0m\u001b[0mfilename\u001b[0m\u001b[0;34m=\u001b[0m\u001b[0mto_file\u001b[0m\u001b[0;34m)\u001b[0m\u001b[0;34m\u001b[0m\u001b[0;34m\u001b[0m\u001b[0m\n\u001b[0m\u001b[1;32m    480\u001b[0m         \u001b[0;32mexcept\u001b[0m \u001b[0mImportError\u001b[0m\u001b[0;34m:\u001b[0m\u001b[0;34m\u001b[0m\u001b[0;34m\u001b[0m\u001b[0m\n\u001b[1;32m    481\u001b[0m             \u001b[0;32mpass\u001b[0m\u001b[0;34m\u001b[0m\u001b[0;34m\u001b[0m\u001b[0m\n",
            "\u001b[0;32m/usr/local/lib/python3.8/dist-packages/IPython/core/display.py\u001b[0m in \u001b[0;36m__init__\u001b[0;34m(self, data, url, filename, format, embed, width, height, retina, unconfined, metadata)\u001b[0m\n\u001b[1;32m   1193\u001b[0m \u001b[0;34m\u001b[0m\u001b[0m\n\u001b[1;32m   1194\u001b[0m         \u001b[0;32mif\u001b[0m \u001b[0mself\u001b[0m\u001b[0;34m.\u001b[0m\u001b[0membed\u001b[0m \u001b[0;32mand\u001b[0m \u001b[0mself\u001b[0m\u001b[0;34m.\u001b[0m\u001b[0mformat\u001b[0m \u001b[0;32mnot\u001b[0m \u001b[0;32min\u001b[0m \u001b[0mself\u001b[0m\u001b[0;34m.\u001b[0m\u001b[0m_ACCEPTABLE_EMBEDDINGS\u001b[0m\u001b[0;34m:\u001b[0m\u001b[0;34m\u001b[0m\u001b[0;34m\u001b[0m\u001b[0m\n\u001b[0;32m-> 1195\u001b[0;31m             \u001b[0;32mraise\u001b[0m \u001b[0mValueError\u001b[0m\u001b[0;34m(\u001b[0m\u001b[0;34m\"Cannot embed the '%s' image format\"\u001b[0m \u001b[0;34m%\u001b[0m \u001b[0;34m(\u001b[0m\u001b[0mself\u001b[0m\u001b[0;34m.\u001b[0m\u001b[0mformat\u001b[0m\u001b[0;34m)\u001b[0m\u001b[0;34m)\u001b[0m\u001b[0;34m\u001b[0m\u001b[0;34m\u001b[0m\u001b[0m\n\u001b[0m\u001b[1;32m   1196\u001b[0m         \u001b[0;32mif\u001b[0m \u001b[0mself\u001b[0m\u001b[0;34m.\u001b[0m\u001b[0membed\u001b[0m\u001b[0;34m:\u001b[0m\u001b[0;34m\u001b[0m\u001b[0;34m\u001b[0m\u001b[0m\n\u001b[1;32m   1197\u001b[0m             \u001b[0mself\u001b[0m\u001b[0;34m.\u001b[0m\u001b[0m_mimetype\u001b[0m \u001b[0;34m=\u001b[0m \u001b[0mself\u001b[0m\u001b[0;34m.\u001b[0m\u001b[0m_MIMETYPES\u001b[0m\u001b[0;34m.\u001b[0m\u001b[0mget\u001b[0m\u001b[0;34m(\u001b[0m\u001b[0mself\u001b[0m\u001b[0;34m.\u001b[0m\u001b[0mformat\u001b[0m\u001b[0;34m)\u001b[0m\u001b[0;34m\u001b[0m\u001b[0;34m\u001b[0m\u001b[0m\n",
            "\u001b[0;31mValueError\u001b[0m: Cannot embed the 'subclassed model' image format"
          ]
        }
      ]
    }
  ]
}